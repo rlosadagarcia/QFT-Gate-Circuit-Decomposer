{
 "cells": [
  {
   "cell_type": "code",
   "execution_count": null,
   "id": "782452b7",
   "metadata": {},
   "outputs": [],
   "source": [
    "# https://github.com/Qiskit/qiskit-tutorials"
   ]
  },
  {
   "cell_type": "code",
   "execution_count": 9,
   "id": "2cc347ba",
   "metadata": {},
   "outputs": [],
   "source": [
    "#from qiskit import QuantumCircuit, QuantumRegister, ClassicalRegister, Aer, quantum_info, execute, transpile, assemble, IBMQ\n",
    "#from qiskit.circuit import Gate\n",
    "#from qiskit.visualization import plot_histogram, plot_bloch_multivector, array_to_latex\n",
    "#from qiskit.quantum_info import Statevector,random_statevector\n",
    "#from qiskit.extensions import Initialize\n",
    "#from qiskit.tools.monitor import job_monitor\n",
    "#from qiskit.visualization import array_to_latex\n",
    "#from qiskit.providers.ibmq import least_busy\n",
    "\n",
    "from qiskit import *\n",
    "from qiskit.visualization import *\n",
    "from qiskit.quantum_info import *\n",
    "from qiskit.extensions import *\n",
    "from qiskit.tools.monitor import *\n",
    "from qiskit.providers.ibmq import *\n",
    "from qiskit.circuit import *\n",
    "\n",
    "import numpy as np\n",
    "import matplotlib as mpl\n",
    "\n",
    "from ipywidgets import interactive\n",
    "from IPython.core.display import display\n",
    "\n",
    "#%config InlineBackend.figure_format = 'retina' #si tenéis pantalla retina (creo que más de 144ppp)las figuras salen\n",
    "#con mejor definición con este comando. Si no teneis, usad el comando de abajo pero va a cambiar el tamaño de todo.\n",
    "mpl.rcParams['figure.dpi'] = 50 "
   ]
  },
  {
   "cell_type": "code",
   "execution_count": 2,
   "id": "7757101d",
   "metadata": {},
   "outputs": [],
   "source": [
    "#!/usr/bin/env python3\n",
    "# -*- coding: utf-8 -*-\n",
    "\"\"\"\n",
    "Created on Tue Jan 18 09:15:21 2022\n",
    "\n",
    "@author: xowy\n",
    "\"\"\"\n",
    "import numpy as np\n",
    "import matplotlib.pyplot as plt\n",
    "from IPython.display import display, Markdown, Latex\n",
    "\n",
    "\n",
    "##############################################################################\n",
    "# Definimos funciones auxiliares para printear\n",
    "\n",
    "def MatrixToLatex(A):\n",
    "    a = \"\\\\begin{pmatrix}\"\n",
    "    for i in range(A.shape[0]):\n",
    "        for j in range(A.shape[1]):\n",
    "            if ((j+1) % A.shape[1]) == 0:\n",
    "                a = a+\"{0:.2f}\".format(A[i, j])\n",
    "            else:\n",
    "                a = a+\"%s&\" % \"{0:.2f}\".format(A[i, j])\n",
    "        if ((i+1) % A.shape[0]) != 0:\n",
    "            a = a+\"\\\\\\\\\"\n",
    "    a = a+\"\\\\end{pmatrix}\"\n",
    "    return(a)\n",
    "\n",
    "\n",
    "def Display(string):\n",
    "    display(Markdown(string))"
   ]
  },
  {
   "cell_type": "markdown",
   "id": "0523cdc3",
   "metadata": {},
   "source": [
    "### IBM #1 "
   ]
  },
  {
   "cell_type": "code",
   "execution_count": 3,
   "id": "fe0f74e4",
   "metadata": {},
   "outputs": [
    {
     "data": {
      "text/plain": [
       "<AccountProvider for IBMQ(hub='ibm-q', group='open', project='main')>"
      ]
     },
     "execution_count": 3,
     "metadata": {},
     "output_type": "execute_result"
    }
   ],
   "source": [
    "#Guardamos nuestra cuenta en el disco duro usando el API token\n",
    "IBMQ.save_account('690f441b74197a4d72968214bf5d7c446e999c114dcf7247f821a9604c4ac2d1136815105e210fc44485bd885148d815e441135c43f7bc7668195a5911f6cb01', overwrite=True)\n",
    "#Cargamos nuestra cuenta\n",
    "IBMQ.load_account()"
   ]
  },
  {
   "cell_type": "code",
   "execution_count": 4,
   "id": "48f6251a",
   "metadata": {},
   "outputs": [
    {
     "data": {
      "text/plain": [
       "[<IBMQSimulator('ibmq_qasm_simulator') from IBMQ(hub='ibm-q', group='open', project='main')>,\n",
       " <IBMQBackend('ibmq_lima') from IBMQ(hub='ibm-q', group='open', project='main')>,\n",
       " <IBMQBackend('ibmq_belem') from IBMQ(hub='ibm-q', group='open', project='main')>,\n",
       " <IBMQBackend('ibmq_quito') from IBMQ(hub='ibm-q', group='open', project='main')>,\n",
       " <IBMQSimulator('simulator_statevector') from IBMQ(hub='ibm-q', group='open', project='main')>,\n",
       " <IBMQSimulator('simulator_mps') from IBMQ(hub='ibm-q', group='open', project='main')>,\n",
       " <IBMQSimulator('simulator_extended_stabilizer') from IBMQ(hub='ibm-q', group='open', project='main')>,\n",
       " <IBMQSimulator('simulator_stabilizer') from IBMQ(hub='ibm-q', group='open', project='main')>,\n",
       " <IBMQBackend('ibmq_manila') from IBMQ(hub='ibm-q', group='open', project='main')>,\n",
       " <IBMQBackend('ibm_nairobi') from IBMQ(hub='ibm-q', group='open', project='main')>,\n",
       " <IBMQBackend('ibm_oslo') from IBMQ(hub='ibm-q', group='open', project='main')>]"
      ]
     },
     "execution_count": 4,
     "metadata": {},
     "output_type": "execute_result"
    }
   ],
   "source": [
    "#Especificamos nuestro proveedor de backends\n",
    "provider = IBMQ.get_provider(hub = 'ibm-q')\n",
    "\n",
    "#Así podemos ver qué QCs están disponibles\n",
    "backends = provider.backends()\n",
    "backends"
   ]
  },
  {
   "cell_type": "markdown",
   "id": "b436a85b",
   "metadata": {},
   "source": [
    "### IBM #2"
   ]
  },
  {
   "cell_type": "code",
   "execution_count": 5,
   "id": "39a7e276",
   "metadata": {},
   "outputs": [],
   "source": [
    "#provider = IBMQ.load_account()\n",
    "#backend_overview()"
   ]
  },
  {
   "cell_type": "markdown",
   "id": "dab084a5",
   "metadata": {},
   "source": [
    "# Circuitos"
   ]
  },
  {
   "cell_type": "markdown",
   "id": "303e8ea4",
   "metadata": {},
   "source": [
    "## Definir un circuito"
   ]
  },
  {
   "cell_type": "code",
   "execution_count": 6,
   "id": "21e152e3",
   "metadata": {},
   "outputs": [
    {
     "data": {
      "image/png": "[encoded data removed]",
      "text/plain": [
       "<Figure size 116.697x385.28 with 1 Axes>"
      ]
     },
     "execution_count": 6,
     "metadata": {},
     "output_type": "execute_result"
    }
   ],
   "source": [
    "#FORMA 1\n",
    "n=5\n",
    "m=5\n",
    "qubits = QuantumRegister(n,name='q')\n",
    "bits = ClassicalRegister(m,name='c')\n",
    "qc = QuantumCircuit(qubits,bits)\n",
    "qc.draw('mpl')"
   ]
  },
  {
   "cell_type": "markdown",
   "id": "87f54e76",
   "metadata": {},
   "source": [
    "<div class=\"alert alert-block alert-info\">    \n",
    "#OJO estamos definiendo n qubits (de 0 a n-1) y m bits (de 0 a m-1)\n",
    "    \n",
    "#OJO los índices van de 0 a n-1, 0 a m-1 en la programación\n",
    "    \n",
    "#En el circuito los índices del registro figuran de 1 a n y 1 a m, respectivamente.\n",
    "<div>"
   ]
  },
  {
   "cell_type": "code",
   "execution_count": 7,
   "id": "b4ab99f0",
   "metadata": {},
   "outputs": [
    {
     "data": {
      "image/png": "[encoded data removed]",
      "text/plain": [
       "<Figure size 116.697x385.28 with 1 Axes>"
      ]
     },
     "execution_count": 7,
     "metadata": {},
     "output_type": "execute_result"
    }
   ],
   "source": [
    "#FORMA 2\n",
    "qc = QuantumCircuit(n,m)\n",
    "\n",
    "#Dibujamos el circuito\n",
    "qc.draw('mpl')"
   ]
  },
  {
   "cell_type": "markdown",
   "id": "a1656604",
   "metadata": {},
   "source": [
    "## Puertas cuánticas"
   ]
  },
  {
   "cell_type": "markdown",
   "id": "70b0dd1a",
   "metadata": {},
   "source": [
    "### Puertas elementales"
   ]
  },
  {
   "cell_type": "code",
   "execution_count": 25,
   "id": "7615a958-3e97-42a0-ae3a-fdd8f263a620",
   "metadata": {},
   "outputs": [
    {
     "data": {
      "text/plain": [
       "Parameter(θ)"
      ]
     },
     "execution_count": 25,
     "metadata": {},
     "output_type": "execute_result"
    }
   ],
   "source": []
  },
  {
   "cell_type": "code",
   "execution_count": 36,
   "id": "1bebbc3d-e6e1-4c04-b106-5dae02850cdc",
   "metadata": {},
   "outputs": [],
   "source": [
    "qcc = QuantumCircuit(2)\n",
    "qcc.swap(0,1)\n",
    "qcc.draw('mpl').savefig('swap_gate.pdf') "
   ]
  },
  {
   "cell_type": "code",
   "execution_count": 12,
   "id": "62d28f30-fdac-4994-aa56-ae4e5dc57020",
   "metadata": {},
   "outputs": [
    {
     "data": {
      "text/plain": [
       "'\\\\documentclass[border=2px]{standalone}\\n\\n\\\\usepackage[braket, qm]{qcircuit}\\n\\\\usepackage{graphicx}\\n\\n\\\\begin{document}\\n\\\\scalebox{1.0}{\\n\\\\Qcircuit @C=1.0em @R=0.8em @!R { \\\\\\\\\\n\\t \\t\\\\nghost{{q}_{0} :  } & \\\\lstick{{q}_{0} :  } & \\\\ctrl{1} & \\\\qw & \\\\qw\\\\\\\\\\n\\t \\t\\\\nghost{{q}_{1} :  } & \\\\lstick{{q}_{1} :  } & \\\\targ & \\\\qw & \\\\qw\\\\\\\\\\n\\\\\\\\ }}\\n\\\\end{document}'"
      ]
     },
     "execution_count": 12,
     "metadata": {},
     "output_type": "execute_result"
    }
   ],
   "source": [
    "qcc.draw('latex_source', filename='./file.tex')"
   ]
  },
  {
   "cell_type": "code",
   "execution_count": 8,
   "id": "f2549e8d",
   "metadata": {},
   "outputs": [
    {
     "data": {
      "image/png": "[encoded data removed]",
      "text/plain": [
       "<Figure size 387.597x385.28 with 1 Axes>"
      ]
     },
     "execution_count": 8,
     "metadata": {},
     "output_type": "execute_result"
    }
   ],
   "source": [
    "#Puertas básicas\n",
    "qc.x(0)\n",
    "qc.y(1)\n",
    "qc.z(2)\n",
    "qc.h(3)\n",
    "\n",
    "#Puertas controladas\n",
    "qc.cx(0,4)\n",
    "qc.cy(1,4)\n",
    "qc.cz(2,4)\n",
    "qc.swap(3,4)\n",
    "qc.draw('mpl')"
   ]
  },
  {
   "cell_type": "markdown",
   "id": "bdc1452a",
   "metadata": {},
   "source": [
    "# Obtener matriz unitaria de la totalidad de un circuito "
   ]
  },
  {
   "cell_type": "markdown",
   "id": "d949567a",
   "metadata": {},
   "source": [
    "## Obtener matriz unitaria del circuito (sin puertas CH)"
   ]
  },
  {
   "cell_type": "code",
   "execution_count": null,
   "id": "4dff1659",
   "metadata": {},
   "outputs": [],
   "source": [
    "#Obtener matriz del circuito; i.e., operador unitario total\n",
    "usim = Aer.get_backend('unitary_simulator')\n",
    "unitary = usim.run(qc).result().get_unitary()  \n",
    "array_to_latex(unitary, prefix=\"\\\\text{Resultado = }\\n\")"
   ]
  },
  {
   "cell_type": "markdown",
   "id": "5379abf8",
   "metadata": {},
   "source": [
    "## Simular y obtener operador unitario"
   ]
  },
  {
   "cell_type": "code",
   "execution_count": null,
   "id": "6e20dad2",
   "metadata": {},
   "outputs": [],
   "source": [
    "#Necesitamos ejecutar el circuito para obtener la matriz\n",
    "backend = Aer.get_backend('unitary_simulator')\n",
    "job = execute(qc,backend)\n",
    "#pd.set_option('display.max_columns', None)\n",
    "result = job.result()\n",
    "\n",
    "#print(np.round(result.get_unitary(qc),4))\n",
    "#type(np.round(result.get_unitary(qc),4))\n",
    "\n",
    "with np.printoptions(threshold=np.inf):\n",
    "    print(np.round(result.get_unitary(qc),4))"
   ]
  },
  {
   "cell_type": "markdown",
   "id": "e88bfce6",
   "metadata": {},
   "source": [
    "## Función statevector para obtener resultado final del circuito"
   ]
  },
  {
   "cell_type": "code",
   "execution_count": null,
   "id": "e4b20902",
   "metadata": {},
   "outputs": [],
   "source": [
    "Statevector(qc)"
   ]
  },
  {
   "cell_type": "markdown",
   "id": "84c328e2",
   "metadata": {},
   "source": [
    "### Alternativamente "
   ]
  },
  {
   "cell_type": "code",
   "execution_count": null,
   "id": "4500dde4",
   "metadata": {},
   "outputs": [],
   "source": [
    "backend = Aer.get_backend('statevector_simulator')\n",
    "job = execute(qc, backend)\n",
    "state = job.result().get_statevector()\n",
    "\n",
    "for i in range(2**n):\n",
    "    s = format(i,\"b\") # Convert to binary\n",
    "    s = (n-len(s))*\"0\"+s # Prepend zeroes if needed\n",
    "    print(\"Amplitude of\",s,\"=\",state[i])\n",
    "\n",
    "for i in range(2**n):\n",
    "    s = format(i,\"b\") # Convert to binary\n",
    "    s = (n-len(s))*\"0\"+s # Prepend zeroes if needed\n",
    "    print(\"Probability of\",s,\"=\",abs(state[i])**2)\n"
   ]
  },
  {
   "cell_type": "markdown",
   "id": "5124d01f",
   "metadata": {},
   "source": [
    "### Conteo de resultados"
   ]
  },
  {
   "cell_type": "code",
   "execution_count": null,
   "id": "cc6643e6",
   "metadata": {},
   "outputs": [],
   "source": [
    " #Escoger aparato de medida\n",
    "backend = Aer.get_backend('qasm_simulator')\n",
    "\n",
    "#Ejecutar medida\n",
    "job = execute(qc, backend)\n",
    "\n",
    "#Extraer resultado de la medida\n",
    "result = job.result()\n",
    "\n",
    "#Realizar conteo y mostrarlo\n",
    "counts = result.get_counts()\n",
    "display(counts)\n",
    "\n",
    "#Graficar conteo en histograma\n",
    "graph = plot_histogram(counts)\n",
    "display(graph)"
   ]
  },
  {
   "cell_type": "markdown",
   "id": "f910de81",
   "metadata": {},
   "source": [
    "### Puertas II"
   ]
  },
  {
   "cell_type": "code",
   "execution_count": null,
   "id": "a9115342",
   "metadata": {},
   "outputs": [],
   "source": [
    "#Puerta CH\n",
    "qc.ch(3,4)\n",
    "\n",
    "#Puerta multicontroladas\n",
    "qc.ccx(0,1,2)\n",
    "\n",
    "qc.draw('mpl')"
   ]
  },
  {
   "cell_type": "markdown",
   "id": "2986dd79",
   "metadata": {},
   "source": [
    "### Puerta U3"
   ]
  },
  {
   "cell_type": "markdown",
   "id": "c9da3904",
   "metadata": {},
   "source": [
    "$$\n",
    "C U(\\theta, \\phi, \\lambda, \\gamma)=I \\otimes |0\\rangle \\langle  0| + e^{i \\gamma} U(\\theta, \\phi, \\lambda) \\otimes | 1 \\rangle \\langle 1|=\\left(\\begin{array}{cccc}\n",
    "1 & 0 & 0 & 0 \\\\\n",
    "0 & e^{i \\gamma} \\cos \\left(\\frac{\\theta}{2}\\right) & 0 & -e^{i(\\gamma+\\lambda)} \\sin \\left(\\frac{\\theta}{2}\\right) \\\\\n",
    "0 & 0 & 1 & 0 \\\\\n",
    "0 & e^{i(\\gamma+\\phi)} \\sin \\left(\\frac{\\theta}{2}\\right) & 0 & e^{i(\\gamma+\\phi+\\lambda)} \\cos \\left(\\frac{\\theta}{2}\\right)\n",
    "\\end{array}\\right)\n",
    "$$\n",
    "\n",
    "Es díficil, así de primeras, ver el efecto que esta matriz va a tener, así que usamos el qasm simulator. Un caso más sencillo es el que aparece comentado en el que la puerta controlada es una $\\operatorname{Z}$. Como el estado entrante es $|a\\rangle = |0\\rangle$ tendremos, con propabilidad del 100%, el estado $|0\\rangle$.\n",
    "\n",
    "\n",
    "Podemos probar también a montar este circuito (o cualquier otro) de una forma muy visual empleando el [Composer](https://quantum-computing.ibm.com/composer/files/new) de IBM. "
   ]
  },
  {
   "cell_type": "markdown",
   "id": "7f188b98",
   "metadata": {},
   "source": [
    "## Medida en un circuito"
   ]
  },
  {
   "cell_type": "code",
   "execution_count": null,
   "id": "12a14005",
   "metadata": {},
   "outputs": [],
   "source": [
    "#Añadir medida al circuito en todos los canales\n",
    "#qc.measure(range(n),range(n))\n",
    "\n",
    "#Alternativamente, podemos medir con:\n",
    "#qc.measure([0,n]],[0,n])\n",
    "\n",
    "#OTRA OPCION: qc.measure_all()\n",
    "\n",
    "#Medir qubit i en bit j\n",
    "import random\n",
    "i=random.randint(0, n-1)\n",
    "print('i =',i)\n",
    "j=random.randint(0,m-1)\n",
    "print('j =',j)\n",
    "qc.measure(qubits[4],bits[0])\n",
    "\n",
    "\n",
    "\n",
    "#NOTAR QUE MEDIMOS EN Z\n",
    "qc.draw('mpl')"
   ]
  },
  {
   "cell_type": "markdown",
   "id": "1ef48ca1",
   "metadata": {},
   "source": [
    "### Medida en X"
   ]
  },
  {
   "cell_type": "code",
   "execution_count": null,
   "id": "de3d9732",
   "metadata": {},
   "outputs": [],
   "source": [
    "#MEDIDA EN X\n",
    "qcx = QuantumCircuit(1,1)\n",
    "\n",
    "qcx.h(0)\n",
    "qcx.measure(0,0)\n",
    "qcx.draw(output='mpl')"
   ]
  },
  {
   "cell_type": "markdown",
   "id": "2c1e6db0",
   "metadata": {},
   "source": [
    "### Medida en Y"
   ]
  },
  {
   "cell_type": "code",
   "execution_count": null,
   "id": "bf91f56e",
   "metadata": {},
   "outputs": [],
   "source": [
    "#MEDIDA EN Y\n",
    "qcy = QuantumCircuit(1,1)\n",
    "\n",
    "qcy.h(0)\n",
    "qcy.s(0)\n",
    "qcy.measure(0,0)\n",
    "qcy.draw(output='mpl')"
   ]
  },
  {
   "cell_type": "markdown",
   "id": "06dba0e2",
   "metadata": {},
   "source": [
    "### Medida de Hadamard (1 qubit)"
   ]
  },
  {
   "cell_type": "markdown",
   "id": "2ba684fb",
   "metadata": {},
   "source": [
    "Sea $U$ un operador UNITARIO y HERMITICO. La medida de Hadamard permite conocer el valor esperado sin medir directamente sobre el estado.\n",
    "<center><img src=\"Imagenes_repaso/hadamard_test.png\" width='400' height='250'/><center>\n",
    "\n",
    "$$\n",
    "\\begin{aligned}\n",
    "&|0a\\rangle \\rightarrow \\frac{1}{\\sqrt{2}}(|0\\rangle+|1\\rangle)\\otimes|a\\rangle \\rightarrow \\frac{1}{\\sqrt{2}}(|0a\\rangle+|1\\rangle\\otimes U |a\\rangle)\\rightarrow \\\\\n",
    "&\\rightarrow \\frac{1}{2}(|0\\rangle+|1\\rangle)\\otimes|a\\rangle + \\frac{1}{2}(|0\\rangle-|1\\rangle)\\otimes U|a\\rangle = \\\\\n",
    "&=\\frac{1}{2} |0\\rangle \\otimes (|a\\rangle + U |a\\rangle) + \\frac{1}{2} |1\\rangle \\otimes (|a\\rangle - U |a\\rangle)\n",
    "\\end{aligned}\n",
    "$$   \n",
    "Ahora, el circuito proyecta con $P_{0}=|0\\rangle \\langle0| \\otimes I$ y $P_{1}=|1\\rangle \\langle1| \\otimes I$, de forma que:\n",
    "    \n",
    "$$  \n",
    "\\langle P_{0} \\rangle =  \\left \\| \\frac{1}{2} |0\\rangle \\otimes (|a\\rangle + U |a\\rangle) \\right \\|^{2}=\\frac{1}{4}(\\langle a|a\\rangle + \\langle a|U|a\\rangle + \\langle a|U^{\\dagger}|a\\rangle +\\langle a|U^{\\dagger}U|a\\rangle ) = \\frac{1}{2}(1+\\operatorname{Re}\\langle a|U|a\\rangle)\n",
    "$$ \n",
    "\n",
    "$$\n",
    "\\langle P_{1} \\rangle = \\left \\| \\frac{1}{2} |1\\rangle \\otimes (|a\\rangle - U |a\\rangle) \\right \\| = \\frac{1}{2}(1-\\operatorname{Re}\\langle a|U|a\\rangle)\n",
    "$$\n",
    "\n",
    "$$\n",
    "\\langle Z \\rangle = P(0) - P(1) = \\operatorname{Re}\\langle a|U|a\\rangle\n",
    "$$\n",
    "\n",
    "<div class=\"alert alert-block alert-info\">    \n",
    "\n",
    "En resumen: si $U$ es un operador unitario, el test de Hadamard nos permite conocer $\\operatorname{Re}\\langle a|U|a\\rangle$. \n",
    "    \n",
    "En el caso de cadenas de Pauli, $U$ no será un operador de 1-cúbit, pero este test de Hadamard sigue siendo válido.\n",
    "<div>"
   ]
  },
  {
   "cell_type": "markdown",
   "id": "c822bbdc",
   "metadata": {},
   "source": [
    "## Conteo de resultados"
   ]
  },
  {
   "cell_type": "code",
   "execution_count": null,
   "id": "3c5f7864",
   "metadata": {},
   "outputs": [],
   "source": [
    " #Escoger aparato de medida\n",
    "backend = Aer.get_backend('qasm_simulator')\n",
    "\n",
    "#Ejecutar medida\n",
    "job = execute(qc, backend)\n",
    "\n",
    "#Extraer resultado de la medida\n",
    "result = job.result()\n",
    "\n",
    "#Realizar conteo y mostrarlo\n",
    "counts = result.get_counts()\n",
    "display(counts)\n",
    "\n",
    "#Graficar conteo en histograma\n",
    "graph = plot_histogram(counts)\n",
    "display(graph)"
   ]
  },
  {
   "cell_type": "markdown",
   "id": "f1bf1ae9",
   "metadata": {},
   "source": [
    "## Estados entrelazados "
   ]
  },
  {
   "cell_type": "code",
   "execution_count": null,
   "id": "08f11b30",
   "metadata": {},
   "outputs": [],
   "source": [
    "Tri1 = QuantumCircuit(2, 2)\n",
    "Tri1.h(0)\n",
    "Tri1.cx(0,1)\n",
    "print('Tri1:')\n",
    "display(Tri1.draw('mpl'))\n",
    "#======================================\n",
    "\n",
    "Tri2 = QuantumCircuit(2, 2)\n",
    "Tri2.x(0)\n",
    "Tri2.h(0)\n",
    "Tri2.cx(0,1)\n",
    "print('Tri2:')\n",
    "display(Tri2.draw('mpl'))\n",
    "#======================================\n",
    "\n",
    "Tri3 = QuantumCircuit(2, 2)\n",
    "Tri3.h(0)\n",
    "Tri3.x(0)\n",
    "Tri3.cx(0,1)\n",
    "print('Tri3:')\n",
    "display(Tri3.draw('mpl'))\n",
    "\n",
    "#======================================\n",
    "\n",
    "Sing = QuantumCircuit(2, 2)\n",
    "Sing.x(0)\n",
    "Sing.x(1)\n",
    "Sing.h(0)\n",
    "Sing.cx(0,1)\n",
    "print('Sing:')\n",
    "display(Sing.draw('mpl'))\n",
    "#======================================"
   ]
  },
  {
   "cell_type": "markdown",
   "id": "0813232b",
   "metadata": {},
   "source": [
    "## CNOT "
   ]
  },
  {
   "cell_type": "code",
   "execution_count": null,
   "id": "b5285585",
   "metadata": {},
   "outputs": [],
   "source": [
    "backend = Aer.get_backend('unitary_simulator')"
   ]
  },
  {
   "cell_type": "markdown",
   "id": "3828bec0",
   "metadata": {},
   "source": [
    "### Equivalencia SWAT-CNOT"
   ]
  },
  {
   "cell_type": "code",
   "execution_count": null,
   "id": "048e6c0d",
   "metadata": {},
   "outputs": [],
   "source": [
    "qswap=QuantumCircuit(2)\n",
    "qswap.swap(0,1)\n",
    "print(np.round(execute(qswap,backend).result().get_unitary(qswap),4))\n",
    "display(qswap.draw('mpl'))"
   ]
  },
  {
   "cell_type": "code",
   "execution_count": null,
   "id": "79162ec0",
   "metadata": {},
   "outputs": [],
   "source": [
    "qswap2=QuantumCircuit(2)\n",
    "qswap2.cx(0,1)\n",
    "qswap2.cx(1,0)\n",
    "qswap2.cx(0,1)\n",
    "#Notar que es equivalente permutar cx(1,0) con cx(0,1)\n",
    "print(np.round(execute(qswap2,backend).result().get_unitary(qswap2),4))\n",
    "display(qswap2.draw('mpl'))"
   ]
  },
  {
   "cell_type": "markdown",
   "id": "5f208932",
   "metadata": {},
   "source": [
    "### Cambiar control de una CNOT "
   ]
  },
  {
   "cell_type": "code",
   "execution_count": null,
   "id": "d0ea22f5",
   "metadata": {},
   "outputs": [],
   "source": [
    "qcp=QuantumCircuit(2)\n",
    "qcp.h([0,1])\n",
    "qcp.cx(0,1)\n",
    "qcp.h([0,1])\n",
    "\n",
    "\n",
    "job = execute(qcp,backend)\n",
    "\n",
    "result = job.result()\n",
    "print(np.round(result.get_unitary(qcp),4))\n",
    "\n",
    "qcp.draw('mpl')"
   ]
  },
  {
   "cell_type": "code",
   "execution_count": null,
   "id": "cf499934",
   "metadata": {},
   "outputs": [],
   "source": [
    "qcp2=QuantumCircuit(2)\n",
    "qcp2.cx(1,0)\n",
    "job2 = execute(qcp2,backend)\n",
    "print(np.round(job2.result().get_unitary(qcp2),4))\n",
    "qcp2.draw('mpl')"
   ]
  },
  {
   "cell_type": "markdown",
   "id": "58254b4b",
   "metadata": {},
   "source": [
    "### Descomposición de una puerta arbitraria en términos de 3 matrices y una rotación "
   ]
  },
  {
   "cell_type": "markdown",
   "id": "bb4391ba",
   "metadata": {},
   "source": [
    "Toda puerta actuando en 1 qbit $U$ puede ser descompuesta de la forma $e^{i \\theta} AXBXC $ verificando $ABC=\\mathbb(I)$\n",
    "\n",
    "El siguiente circuito implementa dicha puerta:\n",
    "<center><img src=\"Imagenes_repaso/Descomposicion_CNOT.PNG\" width='400' height='250'/><center>\n"
   ]
  },
  {
   "cell_type": "markdown",
   "id": "abe11f22",
   "metadata": {},
   "source": [
    "# Ejemplo"
   ]
  },
  {
   "cell_type": "code",
   "execution_count": null,
   "id": "0b32537b",
   "metadata": {},
   "outputs": [],
   "source": [
    "k=3\n",
    "qc=QuantumCircuit(k)\n",
    "qc.x([0,1,2])\n",
    "qc.x(0)\n",
    "qc.z(1)\n",
    "qc.y(2)\n",
    "#qc.measure_all(qc)\n",
    "display(qc.draw('mpl'))"
   ]
  },
  {
   "cell_type": "markdown",
   "id": "10c64288",
   "metadata": {},
   "source": [
    "## Sacar info del circuito a priori "
   ]
  },
  {
   "cell_type": "code",
   "execution_count": null,
   "id": "e7fe545c",
   "metadata": {},
   "outputs": [],
   "source": [
    "#Necesitamos ejecutar el circuito para obtener la matriz\n",
    "backend = Aer.get_backend('unitary_simulator')\n",
    "job = execute(qc,backend)\n",
    "result = job.result()\n",
    "\n",
    "#print(np.round(result.get_unitary(qc),4))\n",
    "#type(np.round(result.get_unitary(qc),4))\n",
    "\n",
    "with np.printoptions(threshold=np.inf):\n",
    "    print(np.round(result.get_unitary(qc),4))"
   ]
  },
  {
   "cell_type": "code",
   "execution_count": null,
   "id": "4254c58a",
   "metadata": {},
   "outputs": [],
   "source": [
    "#Obtener matriz del circuito; i.e., operador unitario total\n",
    "usim = Aer.get_backend('unitary_simulator')\n",
    "\n",
    "usim.run(qc).result().get_unitary()\n",
    "unitary = usim.run(qc).result().get_unitary()  \n",
    "array_to_latex(unitary, prefix=\"\\\\text{Resultado = }\\n\")"
   ]
  },
  {
   "cell_type": "code",
   "execution_count": null,
   "id": "8eb52c39",
   "metadata": {},
   "outputs": [],
   "source": [
    "backend = Aer.get_backend('statevector_simulator')\n",
    "job = execute(qc, backend)\n",
    "state = job.result().get_statevector()\n",
    "\n",
    "for i in range(2**k):\n",
    "    s = format(i,\"b\") # Convert to binary\n",
    "    s = (k-len(s))*\"0\"+s # Prepend zeroes if needed\n",
    "    print(\"Amplitude of\",s,\"=\",state[i])\n",
    "\n",
    "for i in range(2**k):\n",
    "    s = format(i,\"b\") # Convert to binary\n",
    "    s = (k-len(s))*\"0\"+s # Prepend zeroes if needed\n",
    "    print(\"Probability of\",s,\"=\",abs(state[i])**2)\n"
   ]
  },
  {
   "cell_type": "markdown",
   "id": "06035936",
   "metadata": {},
   "source": [
    "## Emular circuito"
   ]
  },
  {
   "cell_type": "code",
   "execution_count": null,
   "id": "e063c8ee",
   "metadata": {},
   "outputs": [],
   "source": [
    "from qiskit.providers.ibmq import least_busy\n",
    "# We execute on the least busy device (among the actual quantum computers)\n",
    "backend = least_busy(provider.backends(operational = True, simulator=False, status_msg='active',\n",
    "                                       filters=lambda x: x.configuration().n_qubits > 1)) \n",
    "print(\"We are executing on...\",backend)\n",
    "print(\"It has\",backend.status().pending_jobs,\"pending jobs\")\n",
    "job_exp = execute(qc, backend=backend)\n",
    "result_exp = job_exp.result()\n",
    "counts_exp = result_exp.get_counts(qc)"
   ]
  },
  {
   "cell_type": "code",
   "execution_count": null,
   "id": "c4443326",
   "metadata": {},
   "outputs": [],
   "source": [
    "qc=QuantumCircuit(k)\n",
    "qc.x([0,1,2])\n",
    "qc.x(0)\n",
    "qc.z(1)\n",
    "qc.y(2)\n",
    "qc.measure_all(qc)\n",
    "display(qc.draw('mpl'))"
   ]
  },
  {
   "cell_type": "code",
   "execution_count": null,
   "id": "1323c045",
   "metadata": {},
   "outputs": [],
   "source": [
    "backend = Aer.get_backend('qasm_simulator')\n",
    "job = execute(qc, backend, shots=1000)\n",
    "\n",
    "counts = job.result().get_counts()\n",
    "\n",
    "print(counts)"
   ]
  },
  {
   "cell_type": "code",
   "execution_count": null,
   "id": "d4b059bb",
   "metadata": {},
   "outputs": [],
   "source": [
    "plot_histogram([counts_exp,counts], legend=['Device', 'Simulator'])"
   ]
  },
  {
   "cell_type": "markdown",
   "id": "510a2742",
   "metadata": {},
   "source": [
    "## Obtener un estado a partir de su representación binaria"
   ]
  },
  {
   "cell_type": "code",
   "execution_count": null,
   "id": "dac606f7",
   "metadata": {},
   "outputs": [],
   "source": [
    "state = Statevector.from_label('00')\n",
    "# Lo visualizamos\n",
    "plot_bloch_multivector(state, title='Estado $|00>$')"
   ]
  },
  {
   "cell_type": "code",
   "execution_count": null,
   "id": "0bf61e73",
   "metadata": {},
   "outputs": [],
   "source": [
    "#Podemos ver la evolución del sistema en la esfera de Bloch:\n",
    "qc = QuantumCircuit(2)\n",
    "qc.x(0)\n",
    "\n",
    "new_state = state.evolve(qc)\n",
    "plot_bloch_multivector(new_state, title='Estado $X_0|00>$')"
   ]
  },
  {
   "cell_type": "markdown",
   "id": "beadaa41",
   "metadata": {},
   "source": [
    "# Checkear disponibilidad en IBM"
   ]
  },
  {
   "cell_type": "code",
   "execution_count": null,
   "id": "cb435f60",
   "metadata": {},
   "outputs": [],
   "source": []
  }
 ],
 "metadata": {
  "kernelspec": {
   "display_name": "Python 3 (ipykernel)",
   "language": "python",
   "name": "python3"
  },
  "language_info": {
   "codemirror_mode": {
    "name": "ipython",
    "version": 3
   },
   "file_extension": ".py",
   "mimetype": "text/x-python",
   "name": "python",
   "nbconvert_exporter": "python",
   "pygments_lexer": "ipython3",
   "version": "3.7.6"
  }
 },
 "nbformat": 4,
 "nbformat_minor": 5
}
