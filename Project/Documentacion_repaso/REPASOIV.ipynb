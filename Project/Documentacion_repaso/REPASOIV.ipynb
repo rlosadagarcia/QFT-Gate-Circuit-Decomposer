{
 "cells": [
  {
   "cell_type": "markdown",
   "metadata": {},
   "source": [
    "## Tabla: Álgebra booleana - Operadores de Pauli $Z_{\\left( \\cdot \\right) }$"
   ]
  },
  {
   "cell_type": "markdown",
   "metadata": {},
   "source": [
    "$$\\begin{array}{|c|c|}\\hline f(x) & H_{f} \\\\ \\hline \\hline \\bar{x} & \\frac{1}{2} I+\\frac{1}{2} Z \\\\ \\hline \\bigoplus_{j=1}^{k} x_{j} & \\frac{1}{2} I-\\frac{1}{2} Z_{1} Z_{2} \\ldots Z_{k} \\\\ \\hline \\bigwedge_{j=1}^{k} x_{j} & \\frac{1}{2^{k}} \\prod_{j}\\left(I-Z_{j}\\right) \\\\ \\hline \\bigvee_{j=1}^{k} x_{j} & I-\\frac{1}{2^{k}} \\prod_{j}\\left(I+Z_{j}\\right) \\\\ \\hline x_{1} \\Rightarrow x_{2} & \\frac{3}{4} I+\\frac{1}{4}\\left(Z_{1}-Z_{2}+Z_{1} Z_{2}\\right) \\\\ \\hline\\end{array}$$"
   ]
  },
  {
   "cell_type": "code",
   "execution_count": null,
   "metadata": {},
   "outputs": [],
   "source": []
  }
 ],
 "metadata": {
  "kernelspec": {
   "display_name": "Python 3 (ipykernel)",
   "language": "python",
   "name": "python3"
  },
  "language_info": {
   "codemirror_mode": {
    "name": "ipython",
    "version": 3
   },
   "file_extension": ".py",
   "mimetype": "text/x-python",
   "name": "python",
   "nbconvert_exporter": "python",
   "pygments_lexer": "ipython3",
   "version": "3.9.12"
  }
 },
 "nbformat": 4,
 "nbformat_minor": 4
}
